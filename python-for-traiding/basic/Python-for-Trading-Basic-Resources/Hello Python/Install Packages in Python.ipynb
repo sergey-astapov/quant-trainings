{
 "cells": [
  {
   "cell_type": "markdown",
   "metadata": {},
   "source": [
    "# Notebook Instructions\n",
    "\n",
    "1. All the <u>code and data files</u> used in this course are available in the downloadable unit of the <u>last section of this course</u>.\n",
    "2. You can run the notebook document sequentially (one cell at a time) by pressing **shift + enter**. \n",
    "3. While a cell is running, a [*] is shown on the left. After the cell is run, the output will appear on the next line.\n",
    "\n",
    "This course is based on specific versions of python packages. You can find the details of the packages in <a href='https://quantra.quantinsti.com/quantra-notebook' target=\"_blank\" >this manual</a>."
   ]
  },
  {
   "cell_type": "markdown",
   "metadata": {},
   "source": [
    "## Installing Python Packages"
   ]
  },
  {
   "cell_type": "markdown",
   "metadata": {},
   "source": [
    "In this IPython Notebook you will learn the following:\n",
    "1. How to install python packages using pip\n",
    "2. How to install a specific version of a python package"
   ]
  },
  {
   "cell_type": "markdown",
   "metadata": {},
   "source": [
    "## What happens if the package is not installed?"
   ]
  },
  {
   "cell_type": "markdown",
   "metadata": {},
   "source": [
    "In the previous units, you have learned and practised how to import a python package. Built-in packages such as Pandas, NumPy are available by default in Python. \n",
    "\n",
    "But there are a lot more other packages publically available you might want to use. If you try to import such packages without installing them first you would get an error called 'ModuleNotFoundError'. \n",
    "\n",
    "For example, Backtrader is a python package used for live trading and backtesting trading strategies. <span style=\"color:red\"> You can see the 'ModuleNotFoundError' when you try to import it in the code below."
   ]
  },
  {
   "cell_type": "code",
   "execution_count": 1,
   "metadata": {},
   "outputs": [
    {
     "ename": "ModuleNotFoundError",
     "evalue": "No module named 'backtrader'",
     "output_type": "error",
     "traceback": [
      "\u001b[1;31m---------------------------------------------------------------------------\u001b[0m",
      "\u001b[1;31mModuleNotFoundError\u001b[0m                       Traceback (most recent call last)",
      "\u001b[1;32m<ipython-input-1-13531ce06671>\u001b[0m in \u001b[0;36m<module>\u001b[1;34m()\u001b[0m\n\u001b[0;32m      1\u001b[0m \u001b[1;31m# Import the package\u001b[0m\u001b[1;33m\u001b[0m\u001b[1;33m\u001b[0m\u001b[0m\n\u001b[1;32m----> 2\u001b[1;33m \u001b[1;32mimport\u001b[0m \u001b[0mbacktrader\u001b[0m\u001b[1;33m\u001b[0m\u001b[0m\n\u001b[0m",
      "\u001b[1;31mModuleNotFoundError\u001b[0m: No module named 'backtrader'"
     ]
    }
   ],
   "source": [
    "# Import the package\n",
    "import backtrader"
   ]
  },
  {
   "cell_type": "markdown",
   "metadata": {},
   "source": [
    "## Install package using pip"
   ]
  },
  {
   "cell_type": "markdown",
   "metadata": {},
   "source": [
    "Pip, a package installer, is used to install and manage packages that are available in Python Package Index (PyPi) which is a repository for Python packages.\n",
    "\n",
    "It is a recommended tool as most of the python packages are made available through PyPi. Pip is installed along when you install Python in your system. You need not worry about downloading or installing pip exclusively."
   ]
  },
  {
   "cell_type": "markdown",
   "metadata": {},
   "source": [
    "### Syntax to install a package"
   ]
  },
  {
   "cell_type": "markdown",
   "metadata": {},
   "source": [
    "You can use the following command to do this."
   ]
  },
  {
   "cell_type": "markdown",
   "metadata": {},
   "source": [
    "`!pip install package_name`"
   ]
  },
  {
   "cell_type": "markdown",
   "metadata": {},
   "source": [
    " For example, to install the Backtrader package you have to replace the 'package_name' with 'backtrader'."
   ]
  },
  {
   "cell_type": "code",
   "execution_count": 8,
   "metadata": {
    "scrolled": false
   },
   "outputs": [
    {
     "name": "stdout",
     "output_type": "stream",
     "text": [
      "Collecting backtrader\n",
      "  Using cached https://files.pythonhosted.org/packages/ab/09/472ad6e42d3a4c9fbd3e162d0a3f9d518ce9189ee8e964bd65ae5af67936/backtrader-1.9.70.122-py2.py3-none-any.whl\n",
      "Installing collected packages: backtrader\n",
      "Successfully installed backtrader-1.9.70.122\n"
     ]
    }
   ],
   "source": [
    "# Install a Python package\n",
    "!pip install backtrader"
   ]
  },
  {
   "cell_type": "markdown",
   "metadata": {},
   "source": [
    "<u><b>Note:</b></u>\n",
    "<b>Installing packages to the Quantra server is not allowed. You will get an 'EnvironmentError' saying Permission Denied. You can download this Notebook from Downloadables in the last section and run locally without such error.</b>"
   ]
  },
  {
   "cell_type": "markdown",
   "metadata": {},
   "source": [
    "After installation, you can see a success message in the last line. This means the package can now be imported and used in your code "
   ]
  },
  {
   "cell_type": "markdown",
   "metadata": {},
   "source": [
    "## Version of the package"
   ]
  },
  {
   "cell_type": "markdown",
   "metadata": {},
   "source": [
    "The 'backtrader' package has different versions available. You can check for them <a href=\"https://pypi.org/project/backtrader/1.9.70.122/#history\">here</a>. If you want to use a different version of the package, you can install that using the following command.\n",
    "\n",
    "Let us install the 1.9.68.122 version."
   ]
  },
  {
   "cell_type": "code",
   "execution_count": 9,
   "metadata": {},
   "outputs": [
    {
     "name": "stdout",
     "output_type": "stream",
     "text": [
      "Collecting backtrader==1.9.68.122\n",
      "  Using cached https://files.pythonhosted.org/packages/f5/6f/e51e5b5969ad1e80718f84399944d359bbc63ca6c7003595db4cd08eaa48/backtrader-1.9.68.122-py2.py3-none-any.whl\n",
      "Installing collected packages: backtrader\n",
      "  Found existing installation: backtrader 1.9.70.122\n",
      "    Uninstalling backtrader-1.9.70.122:\n",
      "      Successfully uninstalled backtrader-1.9.70.122\n",
      "Successfully installed backtrader-1.9.68.122\n"
     ]
    }
   ],
   "source": [
    "# Install a specific version of the package\n",
    "!pip install backtrader == 1.9.68.122"
   ]
  },
  {
   "cell_type": "markdown",
   "metadata": {},
   "source": [
    "<u><b>Note:</b></u>\n",
    "<b>Installing packages to the Quantra server is not allowed. You will get an 'EnvironmentError' saying Permission Denied. You can download this Notebook from Downloadables in the last section and run locally without such error.</b>"
   ]
  },
  {
   "cell_type": "markdown",
   "metadata": {},
   "source": [
    "You can check the version of the package using the following command. Let us check the version of the 'backtrader' package."
   ]
  },
  {
   "cell_type": "code",
   "execution_count": 11,
   "metadata": {},
   "outputs": [
    {
     "data": {
      "text/plain": [
       "'1.9.68.122'"
      ]
     },
     "execution_count": 11,
     "metadata": {},
     "output_type": "execute_result"
    }
   ],
   "source": [
    "# Import the package\n",
    "import backtrader\n",
    "\n",
    "# Check the version of the package\n",
    "backtrader.__version__"
   ]
  },
  {
   "cell_type": "markdown",
   "metadata": {},
   "source": [
    "That is all for this section. In the upcoming section, you will learn the concept of <b>Time value of money</b>. <br><br>"
   ]
  }
 ],
 "metadata": {
  "kernelspec": {
   "display_name": "Python 3",
   "language": "python",
   "name": "python3"
  },
  "language_info": {
   "codemirror_mode": {
    "name": "ipython",
    "version": 3
   },
   "file_extension": ".py",
   "mimetype": "text/x-python",
   "name": "python",
   "nbconvert_exporter": "python",
   "pygments_lexer": "ipython3",
   "version": "3.7.4"
  }
 },
 "nbformat": 4,
 "nbformat_minor": 2
}
