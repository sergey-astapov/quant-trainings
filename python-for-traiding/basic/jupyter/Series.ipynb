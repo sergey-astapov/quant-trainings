{
 "cells": [
  {
   "cell_type": "markdown",
   "metadata": {},
   "source": [
    "_Series_"
   ]
  },
  {
   "cell_type": "code",
   "execution_count": 27,
   "metadata": {},
   "outputs": [
    {
     "name": "stdout",
     "output_type": "stream",
     "text": [
      "0    10\n",
      "1    20\n",
      "2    30\n",
      "3    40\n",
      "4    50\n",
      "5    60\n",
      "dtype: int64\n"
     ]
    }
   ],
   "source": [
    "import pandas as pd\n",
    "\n",
    "# Series created using a list\n",
    "My_Series_int = pd.Series([10, 20, 30, 40, 50, 60])\n",
    "\n",
    "print(My_Series_int)"
   ]
  },
  {
   "cell_type": "code",
   "execution_count": 29,
   "metadata": {},
   "outputs": [
    {
     "name": "stdout",
     "output_type": "stream",
     "text": [
      "0    10.1\n",
      "1    20.2\n",
      "2    30.4\n",
      "3    40.4\n",
      "4    50.5\n",
      "5    60.6\n",
      "dtype: float64\n"
     ]
    }
   ],
   "source": [
    "My_Series_flt = pd.Series([10.1, 20.2, 30.4, 40.4, 50.5, 60.6])\n",
    "\n",
    "print(My_Series_flt)"
   ]
  },
  {
   "cell_type": "code",
   "execution_count": 30,
   "metadata": {},
   "outputs": [
    {
     "name": "stdout",
     "output_type": "stream",
     "text": [
      "0    10.1\n",
      "1      20\n",
      "2     jay\n",
      "3    40.4\n",
      "dtype: object\n"
     ]
    }
   ],
   "source": [
    "# Series created using a list\n",
    "My_Series_mixed = pd.Series([10.1, 20, 'jay', 40.4])\n",
    "\n",
    "print(My_Series_mixed)"
   ]
  },
  {
   "cell_type": "code",
   "execution_count": 31,
   "metadata": {},
   "outputs": [
    {
     "data": {
      "text/plain": [
       "India      Narendra Modi\n",
       "USA         Donald Trump\n",
       "Japan         Shinzo Abe\n",
       "Russia    Vladimir Putin\n",
       "China          Xi Jinpin\n",
       "dtype: object"
      ]
     },
     "execution_count": 31,
     "metadata": {},
     "output_type": "execute_result"
    }
   ],
   "source": [
    "countries = ['India', 'USA', 'Japan', 'Russia', 'China']\n",
    "leaders = ['Narendra Modi', 'Donald Trump',\n",
    "           'Shinzo Abe', 'Vladimir Putin', 'Xi Jinpin']\n",
    "\n",
    "S = pd.Series(leaders, index=countries)  # Index is explicitly defined here\n",
    "S"
   ]
  },
  {
   "cell_type": "code",
   "execution_count": 33,
   "metadata": {},
   "outputs": [
    {
     "name": "stdout",
     "output_type": "stream",
     "text": [
      "Alphabet    100\n",
      "IBM         250\n",
      "Tesla       300\n",
      "Infosys     500\n",
      "dtype: int64\n",
      "\n",
      "\n",
      "Alphabet    500\n",
      "IBM         400\n",
      "Tesla       110\n",
      "Infosys     700\n",
      "dtype: int64\n",
      "\n",
      "\n",
      "Alphabet     600\n",
      "IBM          650\n",
      "Tesla        410\n",
      "Infosys     1200\n",
      "dtype: int64\n"
     ]
    }
   ],
   "source": [
    "# Have a look at the series S1\n",
    "\n",
    "stocks_set1 = ['Alphabet', 'IBM', 'Tesla', 'Infosys']\n",
    "\n",
    "# Here, we are inserting data as a list in series constructor, but the argument of its index is passed as a pre-defined list\n",
    "S1 = pd.Series([100, 250, 300, 500], index=stocks_set1)\n",
    "\n",
    "print(S1)\n",
    "print(\"\\n\")\n",
    "\n",
    "# Now, have a look at the series S2\n",
    "\n",
    "stocks_set2 = ['Alphabet', 'IBM', 'Tesla', 'Infosys']\n",
    "\n",
    "# Here, we are inserting data as a list in series constructor, but the argument of its index is passed as a pre-defined list\n",
    "\n",
    "S2 = pd.Series([500, 400, 110, 700], index=stocks_set2)\n",
    "\n",
    "print(S2)\n",
    "print(\"\\n\")\n",
    "\n",
    "# We will add Series S1 and S2\n",
    "\n",
    "print(S1 + S2)"
   ]
  },
  {
   "cell_type": "code",
   "execution_count": 34,
   "metadata": {},
   "outputs": [
    {
     "name": "stdout",
     "output_type": "stream",
     "text": [
      "Alphabet    100\n",
      "IBM         250\n",
      "Tesla       300\n",
      "Infosys     500\n",
      "dtype: int64\n",
      "\n",
      "\n",
      "Alphabet    500\n",
      "Facebook    700\n",
      "Tesla       110\n",
      "Infosys     700\n",
      "dtype: int64\n",
      "\n",
      "\n",
      "Alphabet     600.0\n",
      "Facebook       NaN\n",
      "IBM            NaN\n",
      "Infosys     1200.0\n",
      "Tesla        410.0\n",
      "dtype: float64\n"
     ]
    }
   ],
   "source": [
    "# Adding lists that have different indexes  will create 'NaN' values\n",
    "\n",
    "stocks_set1 = ['Alphabet', 'IBM', 'Tesla', 'Infosys']\n",
    "stocks_set2 = ['Alphabet', 'Facebook', 'Tesla', 'Infosys']\n",
    "\n",
    "S3 = pd.Series([100, 250, 300, 500], index=stocks_set1)\n",
    "S4 = pd.Series([500, 700, 110, 700], index=stocks_set2)\n",
    "\n",
    "\n",
    "print(S3)\n",
    "print(\"\\n\")\n",
    "\n",
    "print(S4)\n",
    "print(\"\\n\")\n",
    "\n",
    "print(S3+S4)"
   ]
  },
  {
   "cell_type": "code",
   "execution_count": 35,
   "metadata": {},
   "outputs": [
    {
     "name": "stdout",
     "output_type": "stream",
     "text": [
      "RangeIndex(start=0, stop=5, step=1)\n"
     ]
    }
   ],
   "source": [
    "My_Series = pd.Series([10, 20, 30, 40, 50])\n",
    "\n",
    "print(My_Series.index)"
   ]
  },
  {
   "cell_type": "code",
   "execution_count": 36,
   "metadata": {},
   "outputs": [
    {
     "name": "stdout",
     "output_type": "stream",
     "text": [
      "[10 20 30 40 50]\n"
     ]
    }
   ],
   "source": [
    "My_Series = pd.Series([10, 20, 30, 40, 50])\n",
    "\n",
    "print(My_Series.values)"
   ]
  },
  {
   "cell_type": "code",
   "execution_count": 37,
   "metadata": {},
   "outputs": [
    {
     "name": "stdout",
     "output_type": "stream",
     "text": [
      "Alphabet     600.0\n",
      "Facebook       NaN\n",
      "IBM            NaN\n",
      "Infosys     1200.0\n",
      "Tesla        410.0\n",
      "dtype: float64\n"
     ]
    }
   ],
   "source": [
    "print(S3 + S4)"
   ]
  },
  {
   "cell_type": "code",
   "execution_count": 38,
   "metadata": {},
   "outputs": [
    {
     "data": {
      "text/plain": [
       "Alphabet    False\n",
       "Facebook     True\n",
       "IBM          True\n",
       "Infosys     False\n",
       "Tesla       False\n",
       "dtype: bool"
      ]
     },
     "execution_count": 38,
     "metadata": {},
     "output_type": "execute_result"
    }
   ],
   "source": [
    "(S3 + S4).isnull()"
   ]
  },
  {
   "cell_type": "code",
   "execution_count": 39,
   "metadata": {},
   "outputs": [
    {
     "name": "stdout",
     "output_type": "stream",
     "text": [
      "Alphabet     600.0\n",
      "Infosys     1200.0\n",
      "Tesla        410.0\n",
      "dtype: float64\n"
     ]
    }
   ],
   "source": [
    "print((S3 + S4).dropna())"
   ]
  },
  {
   "cell_type": "code",
   "execution_count": 40,
   "metadata": {},
   "outputs": [
    {
     "name": "stdout",
     "output_type": "stream",
     "text": [
      "Alphabet     600.0\n",
      "Facebook      -1.0\n",
      "IBM           -1.0\n",
      "Infosys     1200.0\n",
      "Tesla        410.0\n",
      "dtype: float64\n"
     ]
    }
   ],
   "source": [
    "print((S3 + S4).fillna(-1)) "
   ]
  },
  {
   "cell_type": "code",
   "execution_count": 43,
   "metadata": {},
   "outputs": [
    {
     "name": "stdout",
     "output_type": "stream",
     "text": [
      "0    10\n",
      "1    20\n",
      "2    30\n",
      "3    40\n",
      "4    50\n",
      "5    60\n",
      "6    90\n",
      "dtype: int64\n"
     ]
    }
   ],
   "source": [
    "import numpy as np  # Create a new series as My_Series\n",
    "\n",
    "My_Series = pd.Series([10, 20, 30, 40, 50, 60, 90])\n",
    "\n",
    "print(My_Series)"
   ]
  },
  {
   "cell_type": "code",
   "execution_count": 44,
   "metadata": {},
   "outputs": [
    {
     "data": {
      "text/plain": [
       "0   -0.544021\n",
       "1    0.912945\n",
       "2   -0.988032\n",
       "3    0.745113\n",
       "4   -0.262375\n",
       "5   -0.304811\n",
       "6    0.893997\n",
       "dtype: float64"
      ]
     },
     "execution_count": 44,
     "metadata": {},
     "output_type": "execute_result"
    }
   ],
   "source": [
    "My_Series.apply(np.sin)"
   ]
  },
  {
   "cell_type": "code",
   "execution_count": 45,
   "metadata": {},
   "outputs": [
    {
     "data": {
      "text/plain": [
       "0    0.648361\n",
       "1    2.237161\n",
       "2   -6.405331\n",
       "3   -1.117215\n",
       "4   -0.271901\n",
       "5    0.320040\n",
       "6   -1.995200\n",
       "dtype: float64"
      ]
     },
     "execution_count": 45,
     "metadata": {},
     "output_type": "execute_result"
    }
   ],
   "source": [
    "My_Series.apply(np.tan)"
   ]
  },
  {
   "cell_type": "code",
   "execution_count": null,
   "metadata": {},
   "outputs": [],
   "source": []
  }
 ],
 "metadata": {
  "kernelspec": {
   "display_name": "Python 3",
   "language": "python",
   "name": "python3"
  },
  "language_info": {
   "codemirror_mode": {
    "name": "ipython",
    "version": 3
   },
   "file_extension": ".py",
   "mimetype": "text/x-python",
   "name": "python",
   "nbconvert_exporter": "python",
   "pygments_lexer": "ipython3",
   "version": "3.8.5"
  }
 },
 "nbformat": 4,
 "nbformat_minor": 4
}
