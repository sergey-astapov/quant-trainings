{
 "cells": [
  {
   "cell_type": "code",
   "execution_count": 4,
   "metadata": {},
   "outputs": [
    {
     "name": "stdout",
     "output_type": "stream",
     "text": [
      "[20.3 25.3 22.7 19.  18.5 21.2 24.5 26.6 23.2 21.2]\n"
     ]
    },
    {
     "data": {
      "text/plain": [
       "numpy.ndarray"
      ]
     },
     "execution_count": 4,
     "metadata": {},
     "output_type": "execute_result"
    }
   ],
   "source": [
    "import numpy as np\n",
    "stock_values = [20.3, 25.3, 22.7, 19.0, 18.5, 21.2, 24.5, 26.6, 23.2, 21.2]\n",
    "SV = np.array(stock_values)\n",
    "\n",
    "print (SV)\n",
    "type(SV)"
   ]
  },
  {
   "cell_type": "code",
   "execution_count": 5,
   "metadata": {},
   "outputs": [
    {
     "name": "stdout",
     "output_type": "stream",
     "text": [
      "[20.3 25.3 22.7 19.  18.5 21.2 24.5 26.6 23.2 21.2]\n"
     ]
    },
    {
     "data": {
      "text/plain": [
       "numpy.ndarray"
      ]
     },
     "execution_count": 5,
     "metadata": {},
     "output_type": "execute_result"
    }
   ],
   "source": [
    "stockvalues = (20.3, 25.3, 22.7, 19.0, 18.5, 21.2, 24.5, 26.6, 23.2, 21.2) # This is a tuple\n",
    "\n",
    "# Converting tuple into an array\n",
    "\n",
    "S_V = np.array(stockvalues) \n",
    "\n",
    "print (S_V)\n",
    "type(S_V)"
   ]
  },
  {
   "cell_type": "code",
   "execution_count": 7,
   "metadata": {},
   "outputs": [
    {
     "name": "stdout",
     "output_type": "stream",
     "text": [
      "[0 1 2 3 4 5 6 7 8 9]\n"
     ]
    },
    {
     "data": {
      "text/plain": [
       "numpy.ndarray"
      ]
     },
     "execution_count": 7,
     "metadata": {},
     "output_type": "execute_result"
    }
   ],
   "source": [
    "# If the start parameter is not given, it will be set to 0\n",
    "\n",
    "# '10' is the stop parameter\n",
    "\n",
    "# The default interval for a step is '1'\n",
    "\n",
    "# If the 'dtype' is not given, then it will be automatically inferred from the other input arguments\n",
    "\n",
    "a = np.arange (10) # Syntax a = np.arange (0,10,1,None)\n",
    "print (a)\n",
    "type(a)"
   ]
  },
  {
   "cell_type": "code",
   "execution_count": 8,
   "metadata": {},
   "outputs": [
    {
     "name": "stdout",
     "output_type": "stream",
     "text": [
      "[ 1  2  3  4  5  6  7  8  9 10 11 12 13 14]\n"
     ]
    }
   ],
   "source": [
    "b = np.arange (1,15)\n",
    "print (b)"
   ]
  },
  {
   "cell_type": "code",
   "execution_count": 9,
   "metadata": {},
   "outputs": [
    {
     "name": "stdout",
     "output_type": "stream",
     "text": [
      "[ 0  2  4  6  8 10 12 14 16 18 20]\n"
     ]
    }
   ],
   "source": [
    "# We have changed the 'step' or spacing between two adjacent values, from a default 1, to a user given value of 2\n",
    "\n",
    "c = np.arange (0,21,2)\n",
    "print (c)"
   ]
  },
  {
   "cell_type": "code",
   "execution_count": 10,
   "metadata": {},
   "outputs": [
    {
     "name": "stdout",
     "output_type": "stream",
     "text": [
      "[ 1  3  5  7  9 11 13 15 17 19 21]\n"
     ]
    }
   ],
   "source": [
    "d = np.arange (1.3,23.3,2.1,int)\n",
    "print (d)"
   ]
  },
  {
   "cell_type": "code",
   "execution_count": 11,
   "metadata": {},
   "outputs": [
    {
     "name": "stdout",
     "output_type": "stream",
     "text": [
      "[ 1.3  3.4  5.5  7.6  9.7 11.8 13.9 16.  18.1 20.2 22.3]\n"
     ]
    }
   ],
   "source": [
    "d = np.arange (1.3,23.3,2.1,float)\n",
    "print (d)"
   ]
  },
  {
   "cell_type": "code",
   "execution_count": 12,
   "metadata": {},
   "outputs": [
    {
     "name": "stdout",
     "output_type": "stream",
     "text": [
      "[ 1.          1.18367347  1.36734694  1.55102041  1.73469388  1.91836735\n",
      "  2.10204082  2.28571429  2.46938776  2.65306122  2.83673469  3.02040816\n",
      "  3.20408163  3.3877551   3.57142857  3.75510204  3.93877551  4.12244898\n",
      "  4.30612245  4.48979592  4.67346939  4.85714286  5.04081633  5.2244898\n",
      "  5.40816327  5.59183673  5.7755102   5.95918367  6.14285714  6.32653061\n",
      "  6.51020408  6.69387755  6.87755102  7.06122449  7.24489796  7.42857143\n",
      "  7.6122449   7.79591837  7.97959184  8.16326531  8.34693878  8.53061224\n",
      "  8.71428571  8.89795918  9.08163265  9.26530612  9.44897959  9.63265306\n",
      "  9.81632653 10.        ]\n"
     ]
    }
   ],
   "source": [
    "a = np.linspace (1,10)\n",
    "print (a)"
   ]
  },
  {
   "cell_type": "code",
   "execution_count": 29,
   "metadata": {},
   "outputs": [
    {
     "name": "stdout",
     "output_type": "stream",
     "text": [
      "[ 1.          2.28571429  3.57142857  4.85714286  6.14285714  7.42857143\n",
      "  8.71428571 10.        ]\n",
      "The dimension of array 'a' is 1\n",
      "The datatype of array 'a' is float64\n"
     ]
    }
   ],
   "source": [
    "c = np.linspace (1,10,8)\n",
    "print (c)\n",
    "print (\"The dimension of array 'a' is\", np.ndim (c))\n",
    "print (\"The datatype of array 'a' is\", c.dtype)"
   ]
  },
  {
   "cell_type": "code",
   "execution_count": 15,
   "metadata": {},
   "outputs": [
    {
     "name": "stdout",
     "output_type": "stream",
     "text": [
      "[1.    2.125 3.25  4.375 5.5   6.625 7.75  8.875]\n"
     ]
    }
   ],
   "source": [
    "c = np.linspace (1,10,8,False)\n",
    "print (c)"
   ]
  },
  {
   "cell_type": "code",
   "execution_count": 16,
   "metadata": {},
   "outputs": [
    {
     "name": "stdout",
     "output_type": "stream",
     "text": [
      "(array([ 1.        ,  2.28571429,  3.57142857,  4.85714286,  6.14285714,\n",
      "        7.42857143,  8.71428571, 10.        ]), 1.2857142857142858)\n"
     ]
    }
   ],
   "source": [
    "d = np.linspace (1,10,8,True,True)\n",
    "print (d)"
   ]
  },
  {
   "cell_type": "code",
   "execution_count": 30,
   "metadata": {},
   "outputs": [
    {
     "name": "stdout",
     "output_type": "stream",
     "text": [
      "(array([ 1.,  2.,  3.,  4.,  5.,  6.,  7.,  8.,  9., 10.]), 1.0)\n"
     ]
    }
   ],
   "source": [
    "e = np.linspace(1,10,10,True,True)\n",
    "print (e)"
   ]
  },
  {
   "cell_type": "code",
   "execution_count": 31,
   "metadata": {},
   "outputs": [
    {
     "name": "stdout",
     "output_type": "stream",
     "text": [
      "a: 50\n",
      "The dimension of array 'a' is 0\n",
      "The datatype of array 'a' is int64\n",
      "50 0 int64\n"
     ]
    }
   ],
   "source": [
    "# Scalar\n",
    "\n",
    "a = np.array (50) #Should have only 1 element, at the maximum!\n",
    "\n",
    "print (\"a:\", a)\n",
    "type(a)\n",
    "print (\"The dimension of array 'a' is\", np.ndim (a))\n",
    "print (\"The datatype of array 'a' is\", a.dtype)\n",
    "print (a, np.ndim (a), a.dtype)"
   ]
  },
  {
   "cell_type": "code",
   "execution_count": 39,
   "metadata": {},
   "outputs": [
    {
     "name": "stdout",
     "output_type": "stream",
     "text": [
      "a:  [ 1  1  2  3  5  8 13 21]\n",
      "b:  [ 4.4   6.6   8.8  10.1  12.12]\n",
      "Type of 'a':  int64\n",
      "Type of 'b':  float64\n",
      "Dimension of 'a': 1\n",
      "Dimension of 'b': 1\n"
     ]
    }
   ],
   "source": [
    "# One-dim array\n",
    "\n",
    "a = np.array([1, 1, 2, 3, 5, 8, 13, 21]) # Fibonnacci series\n",
    "b = np.array([4.4, 6.6, 8.8, 10.1, 12.12])\n",
    "\n",
    "print(\"a: \", a)\n",
    "print(\"b: \", b)\n",
    "\n",
    "print(\"Type of 'a': \", a.dtype)\n",
    "print(\"Type of 'b': \", b.dtype)\n",
    "\n",
    "print(\"Dimension of 'a':\", np.ndim(a))\n",
    "print(\"Dimension of 'b':\", np.ndim(b))"
   ]
  },
  {
   "cell_type": "code",
   "execution_count": 40,
   "metadata": {},
   "outputs": [
    {
     "name": "stdout",
     "output_type": "stream",
     "text": [
      "[['Name' 'Year' 'Marks']\n",
      " ['Bela' '2014' '78.2']\n",
      " ['Joe' '1987' '59.1']\n",
      " ['Sugar' '1990' '70']]\n",
      "Dimension of 'studentdata' : 2\n"
     ]
    }
   ],
   "source": [
    "# 2-dim array\n",
    "\n",
    "studentdata = np.array([ [\"Name\", \"Year\", \"Marks\"], \n",
    "               [\"Bela\", 2014, 78.2],\n",
    "                [\"Joe\", 1987, 59.1],\n",
    "               [\"Sugar\", 1990, 70]])\n",
    "\n",
    "print(studentdata)\n",
    "\n",
    "print(\"Dimension of 'studentdata' :\", np.ndim (studentdata))"
   ]
  },
  {
   "cell_type": "code",
   "execution_count": 45,
   "metadata": {},
   "outputs": [
    {
     "name": "stdout",
     "output_type": "stream",
     "text": [
      "    Name  Year  Marks\n",
      "0   Bela  2014   78.2\n",
      "1    Joe  1987   59.1\n",
      "2  Sugar  1990   70.0\n",
      "<class 'numpy.ndarray'>\n",
      "69.10000000000001\n"
     ]
    }
   ],
   "source": [
    "import numpy as np\n",
    "import pandas as pd\n",
    "\n",
    "studentdata1 = {\n",
    "                \"Name\": [\"Bela\", \"Joe\", \"Sugar\"],\n",
    "                \"Year\": [2014, 1987, 1990],\n",
    "                \"Marks\": [78.2, 59.1, 70]\n",
    "               }\n",
    "\n",
    "studentdata1_df = pd.DataFrame (studentdata1)\n",
    "print (studentdata1_df)\n",
    "print(type(np.array(studentdata1_df.Marks)))\n",
    "print(np.mean(studentdata1_df.Marks))"
   ]
  },
  {
   "cell_type": "code",
   "execution_count": 46,
   "metadata": {},
   "outputs": [
    {
     "name": "stdout",
     "output_type": "stream",
     "text": [
      "[[11 22 33]\n",
      " [12 24 36]\n",
      " [13 26 39]\n",
      " [14 28 42]\n",
      " [15 30 45]\n",
      " [16 32 48]]\n",
      "(6, 3)\n"
     ]
    }
   ],
   "source": [
    "a = np.array([ [11, 22, 33],\n",
    "               [12, 24, 36],\n",
    "               [13, 26, 39],\n",
    "               [14, 28, 42],\n",
    "               [15, 30, 45],\n",
    "               [16, 32, 48]])\n",
    "\n",
    "print (a)\n",
    "print(a.shape)"
   ]
  },
  {
   "cell_type": "code",
   "execution_count": 47,
   "metadata": {},
   "outputs": [
    {
     "name": "stdout",
     "output_type": "stream",
     "text": [
      "()\n"
     ]
    }
   ],
   "source": [
    "print(np.shape(np.array(165416113)))"
   ]
  },
  {
   "cell_type": "markdown",
   "metadata": {},
   "source": [
    "_Indexing_"
   ]
  },
  {
   "cell_type": "code",
   "execution_count": 50,
   "metadata": {},
   "outputs": [
    {
     "name": "stdout",
     "output_type": "stream",
     "text": [
      "10\n",
      "87\n"
     ]
    }
   ],
   "source": [
    "import numpy as np\n",
    "\n",
    "# One dimensional array\n",
    "A = np.array([10, 21, 32, 43, 54, 65, 76, 87])\n",
    "\n",
    "# Print the first element of A\n",
    "print(A [0])\n",
    "print(A[-1])"
   ]
  },
  {
   "cell_type": "code",
   "execution_count": 54,
   "metadata": {},
   "outputs": [
    {
     "name": "stdout",
     "output_type": "stream",
     "text": [
      "[[ 1  2  3]\n",
      " [ 4  5  6]\n",
      " [ 7  8  9]\n",
      " [10 11 12]]\n",
      "[1 2 3]\n",
      "[10 11 12]\n",
      "8\n"
     ]
    }
   ],
   "source": [
    "A = np.array ([ [1,2,3], [4,5,6], [7,8,9], [10,11,12] ])\n",
    "\n",
    "print (A)\n",
    "print(A [0])\n",
    "print(A[-1])\n",
    "print (A [2,1])"
   ]
  },
  {
   "cell_type": "markdown",
   "metadata": {},
   "source": [
    "_Slicing_"
   ]
  },
  {
   "cell_type": "code",
   "execution_count": 57,
   "metadata": {},
   "outputs": [
    {
     "name": "stdout",
     "output_type": "stream",
     "text": [
      "[1 2 3 4]\n",
      "[7 8]\n",
      "[3 4 5]\n",
      "[1 2 3 4 5 6 7 8]\n",
      "[1 3 5 7]\n",
      "[1 4 7]\n"
     ]
    }
   ],
   "source": [
    "# Consider a one-dimensional array A\n",
    "\n",
    "A = np.array([1, 2, 3, 4, 5, 6, 7, 8])\n",
    "\n",
    "# By default, the step = 1\n",
    "\n",
    "# To print the first 4 elements (i.e. indices 0, 1, 2, 3, those before index 4)\n",
    "print(A [:4])\n",
    "\n",
    "# To print the elements from the index = 6 till the end\n",
    "print(A [6:])\n",
    "\n",
    "# To print the elements starting from index=2 and it will stop BEFORE index=5\n",
    "\n",
    "print(A [2:5])\n",
    "\n",
    "# To print all the elements of the array\n",
    "print(A [:])\n",
    "\n",
    "# Introducing step = 2\n",
    "\n",
    "# This will print alternate index elements of the entire array, starting from index = 0\n",
    "\n",
    "print (A [::2])\n",
    "print (A [::3])"
   ]
  },
  {
   "cell_type": "code",
   "execution_count": 61,
   "metadata": {},
   "outputs": [
    {
     "name": "stdout",
     "output_type": "stream",
     "text": [
      "[['00' '01' '02' '03' '04']\n",
      " ['10' '11' '12' '13' '14']\n",
      " ['20' '21' '22' '23' '24']\n",
      " ['30' '31' '32' '33' '34']\n",
      " ['40' '41' '42' '43' '44']]\n"
     ]
    }
   ],
   "source": [
    "# Consider a 2-dimensional\n",
    "\n",
    "A = np.array([\n",
    "[\"00\", \"01\", \"02\", \"03\", \"04\"],\n",
    "[10, 11, 12, 13, 14],\n",
    "[20, 21, 22, 23, 24],\n",
    "[30, 31, 32, 33, 34],\n",
    "[40, 41, 42, 43, 44] \n",
    "])\n",
    "\n",
    "print (A)"
   ]
  },
  {
   "cell_type": "code",
   "execution_count": 62,
   "metadata": {},
   "outputs": [
    {
     "name": "stdout",
     "output_type": "stream",
     "text": [
      "['10' '11' '12' '13' '14']\n"
     ]
    }
   ],
   "source": [
    "# Print a row or a column\n",
    "\n",
    "print(A[1,])  # Printing Row 2"
   ]
  },
  {
   "cell_type": "code",
   "execution_count": 63,
   "metadata": {},
   "outputs": [
    {
     "name": "stdout",
     "output_type": "stream",
     "text": [
      "['01' '11' '21' '31' '41']\n"
     ]
    }
   ],
   "source": [
    "print(A[:,1]) # Column 2"
   ]
  },
  {
   "cell_type": "code",
   "execution_count": 64,
   "metadata": {},
   "outputs": [
    {
     "name": "stdout",
     "output_type": "stream",
     "text": [
      "[['00' '01' '02' '03' '04']\n",
      " ['10' '11' '12' '13' '14']]\n",
      "[['01' '02']\n",
      " ['11' '12']\n",
      " ['21' '22']\n",
      " ['31' '32']\n",
      " ['41' '42']]\n"
     ]
    }
   ],
   "source": [
    "# Print multiple rows or columns\n",
    "\n",
    "print(A[:2,]) # Rows 1 & 2\n",
    "\n",
    "print(A[:,1:3]) # Columns 2 & 3 "
   ]
  },
  {
   "cell_type": "code",
   "execution_count": 65,
   "metadata": {},
   "outputs": [
    {
     "name": "stdout",
     "output_type": "stream",
     "text": [
      "[['00' '01' '02' '03' '04']\n",
      " ['10' '11' '12' '13' '14']\n",
      " ['20' '21' '22' '23' '24']]\n",
      "[['03' '04']\n",
      " ['13' '14']\n",
      " ['23' '24']\n",
      " ['33' '34']\n",
      " ['43' '44']]\n"
     ]
    }
   ],
   "source": [
    "# Print first or last rows and columns\n",
    "\n",
    "print(A[:3,]) # Printing first three rows\n",
    "\n",
    "print(A[:,3:]) # Printing 4th column and onwards "
   ]
  },
  {
   "cell_type": "code",
   "execution_count": 66,
   "metadata": {},
   "outputs": [
    {
     "name": "stdout",
     "output_type": "stream",
     "text": [
      "['02' '12']\n"
     ]
    }
   ],
   "source": [
    "# Print selected rows and columns\n",
    "\n",
    "print(A[:2,2]) # Rows 1 & 2 for column3"
   ]
  },
  {
   "cell_type": "code",
   "execution_count": 67,
   "metadata": {},
   "outputs": [
    {
     "name": "stdout",
     "output_type": "stream",
     "text": [
      "[['02' '03' '04']\n",
      " ['12' '13' '14']\n",
      " ['22' '23' '24']]\n"
     ]
    }
   ],
   "source": [
    "print(A[:3,2:]) "
   ]
  },
  {
   "cell_type": "code",
   "execution_count": 68,
   "metadata": {},
   "outputs": [
    {
     "name": "stdout",
     "output_type": "stream",
     "text": [
      "[['00' '01' '02']\n",
      " ['10' '11' '12']\n",
      " ['20' '21' '22']\n",
      " ['30' '31' '32']\n",
      " ['40' '41' '42']]\n"
     ]
    }
   ],
   "source": [
    "print(A[:,:-2])"
   ]
  },
  {
   "cell_type": "code",
   "execution_count": 69,
   "metadata": {},
   "outputs": [
    {
     "name": "stdout",
     "output_type": "stream",
     "text": [
      "[['00' '01' '02' '03' '04']\n",
      " ['10' '11' '12' '13' '14']]\n"
     ]
    }
   ],
   "source": [
    "print(A[:-3,:]) # Array without last 3 rows"
   ]
  },
  {
   "cell_type": "markdown",
   "metadata": {},
   "source": [
    "_Using step_"
   ]
  },
  {
   "cell_type": "code",
   "execution_count": 72,
   "metadata": {},
   "outputs": [
    {
     "name": "stdout",
     "output_type": "stream",
     "text": [
      "[[ 0  1  2  3  4  5  6  7  8  9]\n",
      " [10 11 12 13 14 15 16 17 18 19]\n",
      " [20 21 22 23 24 25 26 27 28 29]\n",
      " [30 31 32 33 34 35 36 37 38 39]\n",
      " [40 41 42 43 44 45 46 47 48 49]]\n"
     ]
    }
   ],
   "source": [
    "# Let us create a new array using the arange method for this exercise\n",
    "\n",
    "A2 = np.arange(50).reshape(5,10) # Create an array with 5 rows, 10 columns that has values from 0 to 49.\n",
    "\n",
    "print(A2)"
   ]
  },
  {
   "cell_type": "code",
   "execution_count": 73,
   "metadata": {},
   "outputs": [
    {
     "name": "stdout",
     "output_type": "stream",
     "text": [
      "[[ 0  1  2  3  4  5  6  7  8  9]\n",
      " [20 21 22 23 24 25 26 27 28 29]\n",
      " [40 41 42 43 44 45 46 47 48 49]]\n"
     ]
    }
   ],
   "source": [
    "# Using step in slicing\n",
    "\n",
    "print(A2[::2,]) # Print rows 1, 3, and 5"
   ]
  },
  {
   "cell_type": "code",
   "execution_count": 75,
   "metadata": {},
   "outputs": [
    {
     "name": "stdout",
     "output_type": "stream",
     "text": [
      "[[ 1  3]\n",
      " [11 13]\n",
      " [21 23]\n",
      " [31 33]\n",
      " [41 43]]\n"
     ]
    }
   ],
   "source": [
    "print(A2[:, 1:5:2]) # Print columns 2 & 4"
   ]
  },
  {
   "cell_type": "code",
   "execution_count": 76,
   "metadata": {},
   "outputs": [
    {
     "name": "stdout",
     "output_type": "stream",
     "text": [
      "[[ 1  3  5  7  9]\n",
      " [11 13 15 17 19]\n",
      " [21 23 25 27 29]\n",
      " [31 33 35 37 39]\n",
      " [41 43 45 47 49]]\n"
     ]
    }
   ],
   "source": [
    "print(A2[:, 1:10:2]) # Print columns 2,4, 6, 8, 10"
   ]
  },
  {
   "cell_type": "code",
   "execution_count": 77,
   "metadata": {},
   "outputs": [
    {
     "name": "stdout",
     "output_type": "stream",
     "text": [
      "[[ 0  3  6  9]\n",
      " [20 23 26 29]\n",
      " [40 43 46 49]]\n"
     ]
    }
   ],
   "source": [
    "# This will print an intersection of elements of rows 0, 2, 4 and columns 0, 3, 9, 6 \n",
    "\n",
    "print(A2 [::2, ::3])"
   ]
  },
  {
   "cell_type": "code",
   "execution_count": 78,
   "metadata": {},
   "outputs": [
    {
     "name": "stdout",
     "output_type": "stream",
     "text": [
      "[[ 0  1  2  3  4  5  6  7  8  9]\n",
      " [10 11 12 13 14 15 16 17 18 19]\n",
      " [20 21 22 23 24 25 26 27 28 29]\n",
      " [30 31 32 33 34 35 36 37 38 39]\n",
      " [40 41 42 43 44 45 46 47 48 49]]\n"
     ]
    }
   ],
   "source": [
    "# Let us print all the rows and columns \n",
    "\n",
    "print (A2 [::,::])"
   ]
  },
  {
   "cell_type": "code",
   "execution_count": 79,
   "metadata": {},
   "outputs": [
    {
     "name": "stdout",
     "output_type": "stream",
     "text": [
      "[[22 26]\n",
      " [32 36]]\n"
     ]
    }
   ],
   "source": [
    "# If the following line of code is self explanatory to you, then you have understood the entire concept of 2D slicing\n",
    "\n",
    "print (A2 [2:4:1, 2:7:4])"
   ]
  },
  {
   "cell_type": "code",
   "execution_count": 81,
   "metadata": {},
   "outputs": [
    {
     "name": "stdout",
     "output_type": "stream",
     "text": [
      "[[42  1  2  3]\n",
      " [ 4  5  6  7]\n",
      " [ 8  9 10 11]]\n"
     ]
    }
   ],
   "source": [
    "# This should be self explanatory\n",
    "\n",
    "A = np.arange(12)\n",
    "B = A.reshape(3, 4)\n",
    "\n",
    "A[0] = 42\n",
    "print(B)"
   ]
  },
  {
   "cell_type": "markdown",
   "metadata": {},
   "source": [
    "_Array of ones and zeros_"
   ]
  },
  {
   "cell_type": "code",
   "execution_count": 82,
   "metadata": {},
   "outputs": [
    {
     "name": "stdout",
     "output_type": "stream",
     "text": [
      "[[1. 1. 1. 1.]\n",
      " [1. 1. 1. 1.]\n",
      " [1. 1. 1. 1.]\n",
      " [1. 1. 1. 1.]]\n"
     ]
    }
   ],
   "source": [
    "O = np.ones((4,4))\n",
    "print(O)\n",
    "\n",
    "# This is default datatype 'float'"
   ]
  },
  {
   "cell_type": "code",
   "execution_count": 83,
   "metadata": {},
   "outputs": [
    {
     "name": "stdout",
     "output_type": "stream",
     "text": [
      "[[1 1 1 1]\n",
      " [1 1 1 1]\n",
      " [1 1 1 1]\n",
      " [1 1 1 1]]\n"
     ]
    }
   ],
   "source": [
    "O = np.ones((4,4), dtype=int) # Changing data type to integer\n",
    "print(O)"
   ]
  },
  {
   "cell_type": "code",
   "execution_count": 84,
   "metadata": {},
   "outputs": [
    {
     "name": "stdout",
     "output_type": "stream",
     "text": [
      "[[0. 0. 0.]\n",
      " [0. 0. 0.]\n",
      " [0. 0. 0.]]\n"
     ]
    }
   ],
   "source": [
    "Z = np.zeros((3,3))\n",
    "print(Z)"
   ]
  },
  {
   "cell_type": "code",
   "execution_count": 85,
   "metadata": {},
   "outputs": [
    {
     "name": "stdout",
     "output_type": "stream",
     "text": [
      "[[0 0 0]\n",
      " [0 0 0]\n",
      " [0 0 0]]\n"
     ]
    }
   ],
   "source": [
    "Z = np.zeros((3,3), dtype=int)\n",
    "print(Z)"
   ]
  },
  {
   "cell_type": "markdown",
   "metadata": {},
   "source": [
    "_Identity function_"
   ]
  },
  {
   "cell_type": "code",
   "execution_count": 86,
   "metadata": {},
   "outputs": [
    {
     "name": "stdout",
     "output_type": "stream",
     "text": [
      "[[1. 0. 0. 0.]\n",
      " [0. 1. 0. 0.]\n",
      " [0. 0. 1. 0.]\n",
      " [0. 0. 0. 1.]]\n"
     ]
    }
   ],
   "source": [
    "I = np.identity(4)\n",
    "\n",
    "print (I)"
   ]
  },
  {
   "cell_type": "code",
   "execution_count": null,
   "metadata": {},
   "outputs": [],
   "source": []
  }
 ],
 "metadata": {
  "kernelspec": {
   "display_name": "Python 3",
   "language": "python",
   "name": "python3"
  },
  "language_info": {
   "codemirror_mode": {
    "name": "ipython",
    "version": 3
   },
   "file_extension": ".py",
   "mimetype": "text/x-python",
   "name": "python",
   "nbconvert_exporter": "python",
   "pygments_lexer": "ipython3",
   "version": "3.8.5"
  }
 },
 "nbformat": 4,
 "nbformat_minor": 4
}
