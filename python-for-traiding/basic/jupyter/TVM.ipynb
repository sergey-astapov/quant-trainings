{
 "cells": [
  {
   "cell_type": "markdown",
   "metadata": {},
   "source": [
    "_Future Value_\n",
    "\n",
    "```\n",
    "fv = p * pow(1 + i, n)\n",
    "```"
   ]
  },
  {
   "cell_type": "code",
   "execution_count": 15,
   "metadata": {},
   "outputs": [
    {
     "name": "stdout",
     "output_type": "stream",
     "text": [
      "fv = 751.8151294956803\n"
     ]
    }
   ],
   "source": [
    "import math\n",
    "\n",
    "p = 500\n",
    "i = 0.06\n",
    "n = 7\n",
    "fv = p * pow(1 + i, n)\n",
    "print(\"fv =\",fv)"
   ]
  },
  {
   "cell_type": "code",
   "execution_count": 16,
   "metadata": {},
   "outputs": [
    {
     "name": "stdout",
     "output_type": "stream",
     "text": [
      "783.5261664684588\n"
     ]
    }
   ],
   "source": [
    "p1 = 1000 / pow(1 + 0.05, 5)\n",
    "print(p1)"
   ]
  },
  {
   "cell_type": "markdown",
   "metadata": {},
   "source": [
    "_Compounding_\n",
    "\n",
    "```\n",
    "FV = PV * pow(1 + r/n, n*t)\n",
    "r - the annual rate of interest\n",
    "n - period of compounding (2 for semianual)\n",
    "```"
   ]
  },
  {
   "cell_type": "code",
   "execution_count": 20,
   "metadata": {},
   "outputs": [
    {
     "name": "stdout",
     "output_type": "stream",
     "text": [
      "1050.625\n"
     ]
    }
   ],
   "source": [
    "def comp(pv, r, n, t):\n",
    "    fv = pv * pow(1 + r/n, n*t)\n",
    "    return fv\n",
    "    \n",
    "p = 1000\n",
    "i = 0.05\n",
    "fv = comp(p, i, 2, 1)\n",
    "print(fv)"
   ]
  },
  {
   "cell_type": "code",
   "execution_count": 22,
   "metadata": {},
   "outputs": [
    {
     "name": "stdout",
     "output_type": "stream",
     "text": [
      "1051.161897881733\n"
     ]
    }
   ],
   "source": [
    "print(comp(1000, 0.05, 12, 1))"
   ]
  },
  {
   "cell_type": "code",
   "execution_count": 23,
   "metadata": {},
   "outputs": [
    {
     "name": "stdout",
     "output_type": "stream",
     "text": [
      "1050.9453369140622\n"
     ]
    }
   ],
   "source": [
    "print(comp(1000, 0.05, 4, 1))"
   ]
  },
  {
   "cell_type": "code",
   "execution_count": null,
   "metadata": {},
   "outputs": [],
   "source": []
  }
 ],
 "metadata": {
  "kernelspec": {
   "display_name": "Python 3",
   "language": "python",
   "name": "python3"
  },
  "language_info": {
   "codemirror_mode": {
    "name": "ipython",
    "version": 3
   },
   "file_extension": ".py",
   "mimetype": "text/x-python",
   "name": "python",
   "nbconvert_exporter": "python",
   "pygments_lexer": "ipython3",
   "version": "3.8.5"
  }
 },
 "nbformat": 4,
 "nbformat_minor": 4
}
