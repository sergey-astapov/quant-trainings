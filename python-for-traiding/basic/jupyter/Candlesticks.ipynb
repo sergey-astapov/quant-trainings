{
 "cells": [
  {
   "cell_type": "markdown",
   "metadata": {},
   "source": [
    "*_Candlestics_*"
   ]
  },
  {
   "cell_type": "code",
   "execution_count": 1,
   "metadata": {},
   "outputs": [
    {
     "data": {
      "text/html": [
       "<div>\n",
       "<style scoped>\n",
       "    .dataframe tbody tr th:only-of-type {\n",
       "        vertical-align: middle;\n",
       "    }\n",
       "\n",
       "    .dataframe tbody tr th {\n",
       "        vertical-align: top;\n",
       "    }\n",
       "\n",
       "    .dataframe thead th {\n",
       "        text-align: right;\n",
       "    }\n",
       "</style>\n",
       "<table border=\"1\" class=\"dataframe\">\n",
       "  <thead>\n",
       "    <tr style=\"text-align: right;\">\n",
       "      <th></th>\n",
       "      <th>series</th>\n",
       "      <th>OPEN</th>\n",
       "      <th>HIGH</th>\n",
       "      <th>LOW</th>\n",
       "      <th>PREV. CLOSE</th>\n",
       "      <th>ltp</th>\n",
       "      <th>CLOSE</th>\n",
       "      <th>vwap</th>\n",
       "      <th>52W H</th>\n",
       "      <th>52W L</th>\n",
       "      <th>VOLUME</th>\n",
       "      <th>VALUE</th>\n",
       "      <th>No of trades</th>\n",
       "    </tr>\n",
       "    <tr>\n",
       "      <th>Date</th>\n",
       "      <th></th>\n",
       "      <th></th>\n",
       "      <th></th>\n",
       "      <th></th>\n",
       "      <th></th>\n",
       "      <th></th>\n",
       "      <th></th>\n",
       "      <th></th>\n",
       "      <th></th>\n",
       "      <th></th>\n",
       "      <th></th>\n",
       "      <th></th>\n",
       "      <th></th>\n",
       "    </tr>\n",
       "  </thead>\n",
       "  <tbody>\n",
       "    <tr>\n",
       "      <th>17-Feb-2021</th>\n",
       "      <td>EQ</td>\n",
       "      <td>1290.4</td>\n",
       "      <td>1294.50</td>\n",
       "      <td>1275.00</td>\n",
       "      <td>1290.40</td>\n",
       "      <td>1280.5</td>\n",
       "      <td>1281.30</td>\n",
       "      <td>1283.76</td>\n",
       "      <td>1392.8</td>\n",
       "      <td>509.25</td>\n",
       "      <td>4575741</td>\n",
       "      <td>5,874,133,583.20</td>\n",
       "      <td>142040</td>\n",
       "    </tr>\n",
       "    <tr>\n",
       "      <th>16-Feb-2021</th>\n",
       "      <td>EQ</td>\n",
       "      <td>1314.0</td>\n",
       "      <td>1319.75</td>\n",
       "      <td>1286.00</td>\n",
       "      <td>1309.65</td>\n",
       "      <td>1294.5</td>\n",
       "      <td>1290.40</td>\n",
       "      <td>1298.05</td>\n",
       "      <td>1392.8</td>\n",
       "      <td>509.25</td>\n",
       "      <td>6896421</td>\n",
       "      <td>8,951,918,993.70</td>\n",
       "      <td>285705</td>\n",
       "    </tr>\n",
       "    <tr>\n",
       "      <th>15-Feb-2021</th>\n",
       "      <td>EQ</td>\n",
       "      <td>1320.0</td>\n",
       "      <td>1328.40</td>\n",
       "      <td>1307.10</td>\n",
       "      <td>1309.80</td>\n",
       "      <td>1312.0</td>\n",
       "      <td>1309.65</td>\n",
       "      <td>1317.42</td>\n",
       "      <td>1392.8</td>\n",
       "      <td>509.25</td>\n",
       "      <td>4363513</td>\n",
       "      <td>5,748,561,879.95</td>\n",
       "      <td>143342</td>\n",
       "    </tr>\n",
       "    <tr>\n",
       "      <th>12-Feb-2021</th>\n",
       "      <td>EQ</td>\n",
       "      <td>1305.0</td>\n",
       "      <td>1323.75</td>\n",
       "      <td>1301.55</td>\n",
       "      <td>1292.65</td>\n",
       "      <td>1312.0</td>\n",
       "      <td>1309.80</td>\n",
       "      <td>1312.31</td>\n",
       "      <td>1392.8</td>\n",
       "      <td>509.25</td>\n",
       "      <td>5797875</td>\n",
       "      <td>7,608,600,802.80</td>\n",
       "      <td>142747</td>\n",
       "    </tr>\n",
       "    <tr>\n",
       "      <th>11-Feb-2021</th>\n",
       "      <td>EQ</td>\n",
       "      <td>1289.0</td>\n",
       "      <td>1296.00</td>\n",
       "      <td>1283.05</td>\n",
       "      <td>1296.50</td>\n",
       "      <td>1292.2</td>\n",
       "      <td>1292.65</td>\n",
       "      <td>1289.54</td>\n",
       "      <td>1392.8</td>\n",
       "      <td>509.25</td>\n",
       "      <td>4673317</td>\n",
       "      <td>6,026,438,862.70</td>\n",
       "      <td>128045</td>\n",
       "    </tr>\n",
       "  </tbody>\n",
       "</table>\n",
       "</div>"
      ],
      "text/plain": [
       "            series    OPEN     HIGH      LOW  PREV. CLOSE     ltp    CLOSE  \\\n",
       "Date                                                                         \n",
       "17-Feb-2021     EQ  1290.4  1294.50  1275.00      1290.40  1280.5  1281.30   \n",
       "16-Feb-2021     EQ  1314.0  1319.75  1286.00      1309.65  1294.5  1290.40   \n",
       "15-Feb-2021     EQ  1320.0  1328.40  1307.10      1309.80  1312.0  1309.65   \n",
       "12-Feb-2021     EQ  1305.0  1323.75  1301.55      1292.65  1312.0  1309.80   \n",
       "11-Feb-2021     EQ  1289.0  1296.00  1283.05      1296.50  1292.2  1292.65   \n",
       "\n",
       "                vwap   52W H   52W L   VOLUME             VALUE  No of trades  \n",
       "Date                                                                           \n",
       "17-Feb-2021  1283.76  1392.8  509.25  4575741  5,874,133,583.20        142040  \n",
       "16-Feb-2021  1298.05  1392.8  509.25  6896421  8,951,918,993.70        285705  \n",
       "15-Feb-2021  1317.42  1392.8  509.25  4363513  5,748,561,879.95        143342  \n",
       "12-Feb-2021  1312.31  1392.8  509.25  5797875  7,608,600,802.80        142747  \n",
       "11-Feb-2021  1289.54  1392.8  509.25  4673317  6,026,438,862.70        128045  "
      ]
     },
     "execution_count": 1,
     "metadata": {},
     "output_type": "execute_result"
    }
   ],
   "source": [
    "# Import pandas\n",
    "import pandas as pd\n",
    "\n",
    "# Read data \n",
    "df = pd.read_csv('infy_data.csv', index_col=0)\n",
    "df.head()"
   ]
  },
  {
   "cell_type": "code",
   "execution_count": 4,
   "metadata": {},
   "outputs": [
    {
     "name": "stdout",
     "output_type": "stream",
     "text": [
      "Collecting mplfinance\n",
      "  Downloading mplfinance-0.12.7a5-py3-none-any.whl (55 kB)\n",
      "\u001b[K     |████████████████████████████████| 55 kB 1.1 MB/s eta 0:00:01\n",
      "\u001b[?25hRequirement already satisfied, skipping upgrade: matplotlib in /usr/local/anaconda3/lib/python3.8/site-packages (from mplfinance) (3.3.2)\n",
      "Requirement already satisfied, skipping upgrade: pandas in /usr/local/anaconda3/lib/python3.8/site-packages (from mplfinance) (1.1.3)\n",
      "Requirement already satisfied, skipping upgrade: python-dateutil>=2.1 in /usr/local/anaconda3/lib/python3.8/site-packages (from matplotlib->mplfinance) (2.8.1)\n",
      "Requirement already satisfied, skipping upgrade: pillow>=6.2.0 in /usr/local/anaconda3/lib/python3.8/site-packages (from matplotlib->mplfinance) (8.0.1)\n",
      "Requirement already satisfied, skipping upgrade: numpy>=1.15 in /usr/local/anaconda3/lib/python3.8/site-packages (from matplotlib->mplfinance) (1.19.2)\n",
      "Requirement already satisfied, skipping upgrade: cycler>=0.10 in /usr/local/anaconda3/lib/python3.8/site-packages (from matplotlib->mplfinance) (0.10.0)\n",
      "Requirement already satisfied, skipping upgrade: certifi>=2020.06.20 in /usr/local/anaconda3/lib/python3.8/site-packages (from matplotlib->mplfinance) (2020.6.20)\n",
      "Requirement already satisfied, skipping upgrade: pyparsing!=2.0.4,!=2.1.2,!=2.1.6,>=2.0.3 in /usr/local/anaconda3/lib/python3.8/site-packages (from matplotlib->mplfinance) (2.4.7)\n",
      "Requirement already satisfied, skipping upgrade: kiwisolver>=1.0.1 in /usr/local/anaconda3/lib/python3.8/site-packages (from matplotlib->mplfinance) (1.3.0)\n",
      "Requirement already satisfied, skipping upgrade: pytz>=2017.2 in /usr/local/anaconda3/lib/python3.8/site-packages (from pandas->mplfinance) (2020.1)\n",
      "Requirement already satisfied, skipping upgrade: six>=1.5 in /usr/local/anaconda3/lib/python3.8/site-packages (from python-dateutil>=2.1->matplotlib->mplfinance) (1.15.0)\n",
      "Installing collected packages: mplfinance\n",
      "Successfully installed mplfinance-0.12.7a5\n"
     ]
    }
   ],
   "source": [
    "# !pip install mpl_finance\n",
    "!pip install --upgrade mplfinance"
   ]
  },
  {
   "cell_type": "code",
   "execution_count": 5,
   "metadata": {},
   "outputs": [],
   "source": [
    "# Importing the necessary packages\n",
    "import matplotlib.pyplot as plt\n",
    "import mpl_finance as mpf\n",
    "from mpl_finance import candlestick_ohlc\n",
    "from bokeh.plotting import figure, show, output_file"
   ]
  },
  {
   "cell_type": "code",
   "execution_count": 6,
   "metadata": {},
   "outputs": [],
   "source": [
    "# Indexing \n",
    "import pandas as pd\n",
    "w = 12*60*60*1000 # half day in ms\n",
    "df.index = pd.to_datetime(df.index)"
   ]
  },
  {
   "cell_type": "markdown",
   "metadata": {},
   "source": [
    "Remember:\n",
    "If the opening price is less than the closing price then a green candlestick is to be created to represent the day.\n",
    "If the opening price is greater than the closing price then a red candlestick is to be created to represent the day.\n",
    "We will use 'inc' and 'dec' as the variable to capture these two patterns in the code."
   ]
  },
  {
   "cell_type": "code",
   "execution_count": 8,
   "metadata": {},
   "outputs": [],
   "source": [
    "inc = df.CLOSE > df.OPEN\n",
    "dec = df.OPEN > df.CLOSE"
   ]
  },
  {
   "cell_type": "code",
   "execution_count": 9,
   "metadata": {},
   "outputs": [],
   "source": [
    "TOOLS = \"pan,wheel_zoom,box_zoom,reset,save\""
   ]
  },
  {
   "cell_type": "code",
   "execution_count": 10,
   "metadata": {},
   "outputs": [],
   "source": [
    "p = figure(x_axis_type=\"datetime\", tools= TOOLS, plot_width=1000, title=\"SPY Candlestick\")"
   ]
  },
  {
   "cell_type": "code",
   "execution_count": 11,
   "metadata": {},
   "outputs": [],
   "source": [
    "from math import pi\n",
    "\n",
    "# The orientation of major tick labels can be controlled with the major_label_orientation property.\n",
    "# This property accepts the values \"horizontal\" or \"vertical\" or a floating point number that gives\n",
    "# the angle (in radians) to rotate from the horizontal.\n",
    "\n",
    "p.xaxis.major_label_orientation = pi/4"
   ]
  },
  {
   "cell_type": "code",
   "execution_count": 12,
   "metadata": {},
   "outputs": [],
   "source": [
    "# Alpha signifies the floating point between 0 (transparent) and 1 (opaque).\n",
    "# The line specifies the alpha for the grid lines in the plot.\n",
    "\n",
    "p.grid.grid_line_alpha = 0.3"
   ]
  },
  {
   "cell_type": "code",
   "execution_count": 13,
   "metadata": {},
   "outputs": [
    {
     "data": {
      "text/html": [
       "<div style=\"display: table;\"><div style=\"display: table-row;\"><div style=\"display: table-cell;\"><b title=\"bokeh.models.renderers.GlyphRenderer\">GlyphRenderer</b>(</div><div style=\"display: table-cell;\">id&nbsp;=&nbsp;'1035', <span id=\"1038\" style=\"cursor: pointer;\">&hellip;)</span></div></div><div class=\"1037\" style=\"display: none;\"><div style=\"display: table-cell;\"></div><div style=\"display: table-cell;\">data_source&nbsp;=&nbsp;ColumnDataSource(id='1032', ...),</div></div><div class=\"1037\" style=\"display: none;\"><div style=\"display: table-cell;\"></div><div style=\"display: table-cell;\">glyph&nbsp;=&nbsp;Segment(id='1033', ...),</div></div><div class=\"1037\" style=\"display: none;\"><div style=\"display: table-cell;\"></div><div style=\"display: table-cell;\">hover_glyph&nbsp;=&nbsp;None,</div></div><div class=\"1037\" style=\"display: none;\"><div style=\"display: table-cell;\"></div><div style=\"display: table-cell;\">js_event_callbacks&nbsp;=&nbsp;{},</div></div><div class=\"1037\" style=\"display: none;\"><div style=\"display: table-cell;\"></div><div style=\"display: table-cell;\">js_property_callbacks&nbsp;=&nbsp;{},</div></div><div class=\"1037\" style=\"display: none;\"><div style=\"display: table-cell;\"></div><div style=\"display: table-cell;\">level&nbsp;=&nbsp;'glyph',</div></div><div class=\"1037\" style=\"display: none;\"><div style=\"display: table-cell;\"></div><div style=\"display: table-cell;\">muted&nbsp;=&nbsp;False,</div></div><div class=\"1037\" style=\"display: none;\"><div style=\"display: table-cell;\"></div><div style=\"display: table-cell;\">muted_glyph&nbsp;=&nbsp;None,</div></div><div class=\"1037\" style=\"display: none;\"><div style=\"display: table-cell;\"></div><div style=\"display: table-cell;\">name&nbsp;=&nbsp;None,</div></div><div class=\"1037\" style=\"display: none;\"><div style=\"display: table-cell;\"></div><div style=\"display: table-cell;\">nonselection_glyph&nbsp;=&nbsp;Segment(id='1034', ...),</div></div><div class=\"1037\" style=\"display: none;\"><div style=\"display: table-cell;\"></div><div style=\"display: table-cell;\">selection_glyph&nbsp;=&nbsp;None,</div></div><div class=\"1037\" style=\"display: none;\"><div style=\"display: table-cell;\"></div><div style=\"display: table-cell;\">subscribed_events&nbsp;=&nbsp;[],</div></div><div class=\"1037\" style=\"display: none;\"><div style=\"display: table-cell;\"></div><div style=\"display: table-cell;\">tags&nbsp;=&nbsp;[],</div></div><div class=\"1037\" style=\"display: none;\"><div style=\"display: table-cell;\"></div><div style=\"display: table-cell;\">view&nbsp;=&nbsp;CDSView(id='1036', ...),</div></div><div class=\"1037\" style=\"display: none;\"><div style=\"display: table-cell;\"></div><div style=\"display: table-cell;\">visible&nbsp;=&nbsp;True,</div></div><div class=\"1037\" style=\"display: none;\"><div style=\"display: table-cell;\"></div><div style=\"display: table-cell;\">x_range_name&nbsp;=&nbsp;'default',</div></div><div class=\"1037\" style=\"display: none;\"><div style=\"display: table-cell;\"></div><div style=\"display: table-cell;\">y_range_name&nbsp;=&nbsp;'default')</div></div></div>\n",
       "<script>\n",
       "(function() {\n",
       "  var expanded = false;\n",
       "  var ellipsis = document.getElementById(\"1038\");\n",
       "  ellipsis.addEventListener(\"click\", function() {\n",
       "    var rows = document.getElementsByClassName(\"1037\");\n",
       "    for (var i = 0; i < rows.length; i++) {\n",
       "      var el = rows[i];\n",
       "      el.style.display = expanded ? \"none\" : \"table-row\";\n",
       "    }\n",
       "    ellipsis.innerHTML = expanded ? \"&hellip;)\" : \"&lsaquo;&lsaquo;&lsaquo;\";\n",
       "    expanded = !expanded;\n",
       "  });\n",
       "})();\n",
       "</script>\n"
      ],
      "text/plain": [
       "GlyphRenderer(id='1035', ...)"
      ]
     },
     "execution_count": 13,
     "metadata": {},
     "output_type": "execute_result"
    }
   ],
   "source": [
    "# Configure and add segment glyphs to the figure\n",
    "\n",
    "p.segment(df.index,df.HIGH,df.index,df.LOW,color=\"red\")"
   ]
  },
  {
   "cell_type": "code",
   "execution_count": 19,
   "metadata": {},
   "outputs": [
    {
     "data": {
      "text/html": [
       "<div style=\"display: table;\"><div style=\"display: table-row;\"><div style=\"display: table-cell;\"><b title=\"bokeh.models.renderers.GlyphRenderer\">GlyphRenderer</b>(</div><div style=\"display: table-cell;\">id&nbsp;=&nbsp;'1270', <span id=\"1297\" style=\"cursor: pointer;\">&hellip;)</span></div></div><div class=\"1296\" style=\"display: none;\"><div style=\"display: table-cell;\"></div><div style=\"display: table-cell;\">data_source&nbsp;=&nbsp;ColumnDataSource(id='1267', ...),</div></div><div class=\"1296\" style=\"display: none;\"><div style=\"display: table-cell;\"></div><div style=\"display: table-cell;\">glyph&nbsp;=&nbsp;VBar(id='1268', ...),</div></div><div class=\"1296\" style=\"display: none;\"><div style=\"display: table-cell;\"></div><div style=\"display: table-cell;\">hover_glyph&nbsp;=&nbsp;None,</div></div><div class=\"1296\" style=\"display: none;\"><div style=\"display: table-cell;\"></div><div style=\"display: table-cell;\">js_event_callbacks&nbsp;=&nbsp;{},</div></div><div class=\"1296\" style=\"display: none;\"><div style=\"display: table-cell;\"></div><div style=\"display: table-cell;\">js_property_callbacks&nbsp;=&nbsp;{},</div></div><div class=\"1296\" style=\"display: none;\"><div style=\"display: table-cell;\"></div><div style=\"display: table-cell;\">level&nbsp;=&nbsp;'glyph',</div></div><div class=\"1296\" style=\"display: none;\"><div style=\"display: table-cell;\"></div><div style=\"display: table-cell;\">muted&nbsp;=&nbsp;False,</div></div><div class=\"1296\" style=\"display: none;\"><div style=\"display: table-cell;\"></div><div style=\"display: table-cell;\">muted_glyph&nbsp;=&nbsp;None,</div></div><div class=\"1296\" style=\"display: none;\"><div style=\"display: table-cell;\"></div><div style=\"display: table-cell;\">name&nbsp;=&nbsp;None,</div></div><div class=\"1296\" style=\"display: none;\"><div style=\"display: table-cell;\"></div><div style=\"display: table-cell;\">nonselection_glyph&nbsp;=&nbsp;VBar(id='1269', ...),</div></div><div class=\"1296\" style=\"display: none;\"><div style=\"display: table-cell;\"></div><div style=\"display: table-cell;\">selection_glyph&nbsp;=&nbsp;None,</div></div><div class=\"1296\" style=\"display: none;\"><div style=\"display: table-cell;\"></div><div style=\"display: table-cell;\">subscribed_events&nbsp;=&nbsp;[],</div></div><div class=\"1296\" style=\"display: none;\"><div style=\"display: table-cell;\"></div><div style=\"display: table-cell;\">tags&nbsp;=&nbsp;[],</div></div><div class=\"1296\" style=\"display: none;\"><div style=\"display: table-cell;\"></div><div style=\"display: table-cell;\">view&nbsp;=&nbsp;CDSView(id='1271', ...),</div></div><div class=\"1296\" style=\"display: none;\"><div style=\"display: table-cell;\"></div><div style=\"display: table-cell;\">visible&nbsp;=&nbsp;True,</div></div><div class=\"1296\" style=\"display: none;\"><div style=\"display: table-cell;\"></div><div style=\"display: table-cell;\">x_range_name&nbsp;=&nbsp;'default',</div></div><div class=\"1296\" style=\"display: none;\"><div style=\"display: table-cell;\"></div><div style=\"display: table-cell;\">y_range_name&nbsp;=&nbsp;'default')</div></div></div>\n",
       "<script>\n",
       "(function() {\n",
       "  var expanded = false;\n",
       "  var ellipsis = document.getElementById(\"1297\");\n",
       "  ellipsis.addEventListener(\"click\", function() {\n",
       "    var rows = document.getElementsByClassName(\"1296\");\n",
       "    for (var i = 0; i < rows.length; i++) {\n",
       "      var el = rows[i];\n",
       "      el.style.display = expanded ? \"none\" : \"table-row\";\n",
       "    }\n",
       "    ellipsis.innerHTML = expanded ? \"&hellip;)\" : \"&lsaquo;&lsaquo;&lsaquo;\";\n",
       "    expanded = !expanded;\n",
       "  });\n",
       "})();\n",
       "</script>\n"
      ],
      "text/plain": [
       "GlyphRenderer(id='1270', ...)"
      ]
     },
     "execution_count": 19,
     "metadata": {},
     "output_type": "execute_result"
    }
   ],
   "source": [
    "# Adds vbar glyphs to the Figure\n",
    "\n",
    "p.vbar(df.index[inc],w,df.OPEN[inc],df.CLOSE[inc], fill_color=\"#1ED837\",line_color=\"black\")\n",
    "p.vbar(df.index[dec],w,df.OPEN[dec],df.CLOSE[dec], fill_color=\"#F2583E\",line_color=\"black\")"
   ]
  },
  {
   "cell_type": "code",
   "execution_count": 20,
   "metadata": {},
   "outputs": [],
   "source": [
    "# Generates simple standalone HTML documents for Bokeh visualization\n",
    "\n",
    "output_file(\"candlestick.html\", title=\"candlestick.py example\") "
   ]
  },
  {
   "cell_type": "code",
   "execution_count": 21,
   "metadata": {},
   "outputs": [],
   "source": [
    "# The graph will open in another tab of the browser\n",
    "\n",
    "show(p)\n",
    "\n",
    "# The code ends here"
   ]
  },
  {
   "cell_type": "code",
   "execution_count": 22,
   "metadata": {},
   "outputs": [
    {
     "data": {
      "text/html": [
       "\n",
       "\n",
       "\n",
       "\n",
       "<!DOCTYPE html>\n",
       "<html lang=\"en\">\n",
       "  \n",
       "  <head>\n",
       "    \n",
       "      <meta charset=\"utf-8\">\n",
       "      <title>candlestick.py example</title>\n",
       "      \n",
       "      \n",
       "        \n",
       "          \n",
       "        \n",
       "        \n",
       "          \n",
       "        <script type=\"text/javascript\" src=\"https://cdn.bokeh.org/bokeh/release/bokeh-2.2.3.min.js\" integrity=\"sha384-T2yuo9Oe71Cz/I4X9Ac5+gpEa5a8PpJCDlqKYO0CfAuEszu1JrXLl8YugMqYe3sM\" crossorigin=\"anonymous\"></script>\n",
       "        <script type=\"text/javascript\">\n",
       "            Bokeh.set_log_level(\"info\");\n",
       "        </script>\n",
       "        \n",
       "      \n",
       "      \n",
       "    \n",
       "  </head>\n",
       "  \n",
       "  \n",
       "  <body>\n",
       "    \n",
       "      \n",
       "        \n",
       "          \n",
       "          \n",
       "            \n",
       "              <div class=\"bk-root\" id=\"24185ae7-8522-4a01-88bd-ebc3772ccc56\" data-root-id=\"1001\"></div>\n",
       "            \n",
       "          \n",
       "        \n",
       "      \n",
       "      \n",
       "        <script type=\"application/json\" id=\"1514\">\n",
       "          {\"924a7bfe-d6e8-439d-a784-86122be60757\":{\"roots\":{\"references\":[{\"attributes\":{},\"id\":\"1040\",\"type\":\"DatetimeTickFormatter\"},{\"attributes\":{\"months\":[0,1,2,3,4,5,6,7,8,9,10,11]},\"id\":\"1053\",\"type\":\"MonthsTicker\"},{\"attributes\":{\"data\":{\"bottom\":{\"__ndarray__\":\"MzMzMzMFlECamZmZmSmUQJqZmZmZdpRAMzMzMzNmlEBmZmZmZuCTQGZmZmZm/ZNAAAAAAADdk0AzMzMzM1yTQM3MzMzM8JNAAAAAAABUlEBmZmZmZrSUQM3MzMzM7pRAmpmZmZmSlEAzMzMzM4CUQA==\",\"dtype\":\"float64\",\"order\":\"little\",\"shape\":[14]},\"top\":{\"__ndarray__\":\"mpmZmZkplEAAAAAAAIiUQAAAAAAAoJRAmpmZmZlrlECamZmZmRmUQAAAAAAAFJRAAAAAAAAAlEAAAAAAABmUQDMzMzMzL5RAZmZmZmaelEAAAAAAAASVQAAAAAAAGJVAAAAAAACglEAAAAAAAOiUQA==\",\"dtype\":\"float64\",\"order\":\"little\",\"shape\":[14]},\"x\":{\"__ndarray__\":\"AABAldR6d0IAAIAvgnp3QgAAwMkvendCAABAZ0F4d0IAAEDQ93Z3QgAAgGqldndCAAAAnwB2d0IAAAAIt3R3QgAAQKJkdHdCAACAPBJ0d0IAAABxbXN3QgAAANojcndCAACADn9xd0IAAMCoLHF3Qg==\",\"dtype\":\"float64\",\"order\":\"little\",\"shape\":[14]}},\"selected\":{\"id\":\"1281\"},\"selection_policy\":{\"id\":\"1282\"}},\"id\":\"1267\",\"type\":\"ColumnDataSource\"},{\"attributes\":{\"data_source\":{\"id\":\"1032\"},\"glyph\":{\"id\":\"1033\"},\"hover_glyph\":null,\"muted_glyph\":null,\"nonselection_glyph\":{\"id\":\"1034\"},\"selection_glyph\":null,\"view\":{\"id\":\"1036\"}},\"id\":\"1035\",\"type\":\"GlyphRenderer\"},{\"attributes\":{\"data\":{\"bottom\":{\"__ndarray__\":\"MzMzMzN3lECamZmZmTKUQAAAAAAAQpRAMzMzMzNelECamZmZmRKUQJqZmZmZs5NAZmZmZmbzlEDNzMzMzO2UQA==\",\"dtype\":\"float64\",\"order\":\"little\",\"shape\":[8]},\"top\":{\"__ndarray__\":\"AAAAAABklEAAAAAAACSUQDMzMzMzP5RAAAAAAAAWlECamZmZmfaTQDMzMzMzipNAAAAAAAC8lEAzMzMzM6KUQA==\",\"dtype\":\"float64\",\"order\":\"little\",\"shape\":[8]},\"x\":{\"__ndarray__\":\"AACAmDh5d0IAAMAy5nh3QgAAAM2TeHdCAACAAe93d0IAAMAEU3Z3QgAAQDmudXdCAADAP3Zyd0IAAEB00XF3Qg==\",\"dtype\":\"float64\",\"order\":\"little\",\"shape\":[8]}},\"selected\":{\"id\":\"1252\"},\"selection_policy\":{\"id\":\"1253\"}},\"id\":\"1240\",\"type\":\"ColumnDataSource\"},{\"attributes\":{\"line_color\":{\"value\":\"red\"},\"x0\":{\"field\":\"x0\"},\"x1\":{\"field\":\"x1\"},\"y0\":{\"field\":\"y0\"},\"y1\":{\"field\":\"y1\"}},\"id\":\"1033\",\"type\":\"Segment\"},{\"attributes\":{},\"id\":\"1042\",\"type\":\"BasicTickFormatter\"},{\"attributes\":{\"months\":[0,2,4,6,8,10]},\"id\":\"1054\",\"type\":\"MonthsTicker\"},{\"attributes\":{\"bottom\":{\"field\":\"bottom\"},\"fill_alpha\":{\"value\":0.1},\"fill_color\":{\"value\":\"#F2583E\"},\"line_alpha\":{\"value\":0.1},\"top\":{\"field\":\"top\"},\"width\":{\"value\":43200000},\"x\":{\"field\":\"x\"}},\"id\":\"1269\",\"type\":\"VBar\"},{\"attributes\":{\"source\":{\"id\":\"1240\"}},\"id\":\"1244\",\"type\":\"CDSView\"},{\"attributes\":{\"months\":[0,6]},\"id\":\"1056\",\"type\":\"MonthsTicker\"},{\"attributes\":{\"source\":{\"id\":\"1267\"}},\"id\":\"1271\",\"type\":\"CDSView\"},{\"attributes\":{\"bottom\":{\"field\":\"bottom\"},\"fill_alpha\":{\"value\":0.1},\"fill_color\":{\"value\":\"#1ED837\"},\"line_alpha\":{\"value\":0.1},\"top\":{\"field\":\"top\"},\"width\":{\"value\":43200000},\"x\":{\"field\":\"x\"}},\"id\":\"1242\",\"type\":\"VBar\"},{\"attributes\":{\"bottom_units\":\"screen\",\"fill_alpha\":0.5,\"fill_color\":\"lightgrey\",\"left_units\":\"screen\",\"level\":\"overlay\",\"line_alpha\":1.0,\"line_color\":\"black\",\"line_dash\":[4,4],\"line_width\":2,\"right_units\":\"screen\",\"top_units\":\"screen\"},\"id\":\"1025\",\"type\":\"BoxAnnotation\"},{\"attributes\":{\"months\":[0,4,8]},\"id\":\"1055\",\"type\":\"MonthsTicker\"},{\"attributes\":{\"data_source\":{\"id\":\"1267\"},\"glyph\":{\"id\":\"1268\"},\"hover_glyph\":null,\"muted_glyph\":null,\"nonselection_glyph\":{\"id\":\"1269\"},\"selection_glyph\":null,\"view\":{\"id\":\"1271\"}},\"id\":\"1270\",\"type\":\"GlyphRenderer\"},{\"attributes\":{\"below\":[{\"id\":\"1012\"}],\"center\":[{\"id\":\"1015\"},{\"id\":\"1019\"}],\"left\":[{\"id\":\"1016\"}],\"plot_width\":1000,\"renderers\":[{\"id\":\"1035\"},{\"id\":\"1243\"},{\"id\":\"1270\"}],\"title\":{\"id\":\"1002\"},\"toolbar\":{\"id\":\"1026\"},\"x_range\":{\"id\":\"1004\"},\"x_scale\":{\"id\":\"1008\"},\"y_range\":{\"id\":\"1006\"},\"y_scale\":{\"id\":\"1010\"}},\"id\":\"1001\",\"subtype\":\"Figure\",\"type\":\"Plot\"},{\"attributes\":{\"data_source\":{\"id\":\"1240\"},\"glyph\":{\"id\":\"1241\"},\"hover_glyph\":null,\"muted_glyph\":null,\"nonselection_glyph\":{\"id\":\"1242\"},\"selection_glyph\":null,\"view\":{\"id\":\"1244\"}},\"id\":\"1243\",\"type\":\"GlyphRenderer\"},{\"attributes\":{},\"id\":\"1057\",\"type\":\"YearsTicker\"},{\"attributes\":{\"num_minor_ticks\":5,\"tickers\":[{\"id\":\"1046\"},{\"id\":\"1047\"},{\"id\":\"1048\"},{\"id\":\"1049\"},{\"id\":\"1050\"},{\"id\":\"1051\"},{\"id\":\"1052\"},{\"id\":\"1053\"},{\"id\":\"1054\"},{\"id\":\"1055\"},{\"id\":\"1056\"},{\"id\":\"1057\"}]},\"id\":\"1013\",\"type\":\"DatetimeTicker\"},{\"attributes\":{\"active_drag\":\"auto\",\"active_inspect\":\"auto\",\"active_multi\":null,\"active_scroll\":\"auto\",\"active_tap\":\"auto\",\"tools\":[{\"id\":\"1020\"},{\"id\":\"1021\"},{\"id\":\"1022\"},{\"id\":\"1023\"},{\"id\":\"1024\"}]},\"id\":\"1026\",\"type\":\"Toolbar\"},{\"attributes\":{\"text\":\"SPY Candlestick\"},\"id\":\"1002\",\"type\":\"Title\"},{\"attributes\":{},\"id\":\"1004\",\"type\":\"DataRange1d\"},{\"attributes\":{\"days\":[1,2,3,4,5,6,7,8,9,10,11,12,13,14,15,16,17,18,19,20,21,22,23,24,25,26,27,28,29,30,31]},\"id\":\"1049\",\"type\":\"DaysTicker\"},{\"attributes\":{},\"id\":\"1010\",\"type\":\"LinearScale\"},{\"attributes\":{\"formatter\":{\"id\":\"1040\"},\"major_label_orientation\":0.7853981633974483,\"ticker\":{\"id\":\"1013\"}},\"id\":\"1012\",\"type\":\"DatetimeAxis\"},{\"attributes\":{},\"id\":\"1006\",\"type\":\"DataRange1d\"},{\"attributes\":{\"base\":24,\"mantissas\":[1,2,4,6,8,12],\"max_interval\":43200000.0,\"min_interval\":3600000.0,\"num_minor_ticks\":0},\"id\":\"1048\",\"type\":\"AdaptiveTicker\"},{\"attributes\":{},\"id\":\"1008\",\"type\":\"LinearScale\"},{\"attributes\":{\"axis\":{\"id\":\"1012\"},\"grid_line_alpha\":0.3,\"ticker\":null},\"id\":\"1015\",\"type\":\"Grid\"},{\"attributes\":{},\"id\":\"1281\",\"type\":\"Selection\"},{\"attributes\":{\"days\":[1,15]},\"id\":\"1052\",\"type\":\"DaysTicker\"},{\"attributes\":{\"formatter\":{\"id\":\"1042\"},\"ticker\":{\"id\":\"1017\"}},\"id\":\"1016\",\"type\":\"LinearAxis\"},{\"attributes\":{},\"id\":\"1282\",\"type\":\"UnionRenderers\"},{\"attributes\":{\"axis\":{\"id\":\"1016\"},\"dimension\":1,\"grid_line_alpha\":0.3,\"ticker\":null},\"id\":\"1019\",\"type\":\"Grid\"},{\"attributes\":{},\"id\":\"1044\",\"type\":\"Selection\"},{\"attributes\":{},\"id\":\"1017\",\"type\":\"BasicTicker\"},{\"attributes\":{},\"id\":\"1045\",\"type\":\"UnionRenderers\"},{\"attributes\":{},\"id\":\"1252\",\"type\":\"Selection\"},{\"attributes\":{\"bottom\":{\"field\":\"bottom\"},\"fill_color\":{\"value\":\"#F2583E\"},\"top\":{\"field\":\"top\"},\"width\":{\"value\":43200000},\"x\":{\"field\":\"x\"}},\"id\":\"1268\",\"type\":\"VBar\"},{\"attributes\":{},\"id\":\"1253\",\"type\":\"UnionRenderers\"},{\"attributes\":{},\"id\":\"1021\",\"type\":\"WheelZoomTool\"},{\"attributes\":{\"data\":{\"x0\":{\"__ndarray__\":\"AABAldR6d0IAAIAvgnp3QgAAwMkvendCAACAmDh5d0IAAMAy5nh3QgAAAM2TeHdCAABAZ0F4d0IAAIAB73d3QgAAQND3dndCAACAaqV2d0IAAMAEU3Z3QgAAAJ8AdndCAABAOa51d0IAAAAIt3R3QgAAQKJkdHdCAACAPBJ0d0IAAABxbXN3QgAAwD92cndCAAAA2iNyd0IAAEB00XF3QgAAgA5/cXdCAADAqCxxd0I=\",\"dtype\":\"float64\",\"order\":\"little\",\"shape\":[22]},\"x1\":{\"__ndarray__\":\"AABAldR6d0IAAIAvgnp3QgAAwMkvendCAACAmDh5d0IAAMAy5nh3QgAAAM2TeHdCAABAZ0F4d0IAAIAB73d3QgAAQND3dndCAACAaqV2d0IAAMAEU3Z3QgAAAJ8AdndCAABAOa51d0IAAAAIt3R3QgAAQKJkdHdCAACAPBJ0d0IAAABxbXN3QgAAwD92cndCAAAA2iNyd0IAAEB00XF3QgAAgA5/cXdCAADAqCxxd0I=\",\"dtype\":\"float64\",\"order\":\"little\",\"shape\":[22]},\"y0\":{\"__ndarray__\":\"AAAAAAA6lEAAAAAAAJ+UQJqZmZmZwZRAAAAAAACvlEAAAAAAAECUQGZmZmZmYZRAAAAAAADQlEAAAAAAAHiUQAAAAAAAI5RAmpmZmZk1lEAAAAAAAGCUQJqZmZmZOZRAzczMzMz3k0CamZmZmSyUQM3MzMzMQZRAMzMzMzO+lECamZmZmQ+VQAAAAAAAMJVAMzMzMzNElUCamZmZmRGVQAAAAAAAzJRAAAAAAADwlEA=\",\"dtype\":\"float64\",\"order\":\"little\",\"shape\":[22]},\"y1\":{\"__ndarray__\":\"AAAAAADsk0AAAAAAABiUQGZmZmZmbJRAMzMzMzNWlEAzMzMzMwyUQGZmZmZmDpRAZmZmZmZHlEAAAAAAAO6TQAAAAAAAuJNAMzMzMzPgk0AAAAAAAOSTQGZmZmZmvpNAAAAAAABkk0AAAAAAADyTQDMzMzMz4pNAZmZmZmYUlEAAAAAAAISUQDMzMzMzupRAAAAAAADclEAzMzMzM6KUQAAAAAAAgJRAAAAAAABolEA=\",\"dtype\":\"float64\",\"order\":\"little\",\"shape\":[22]}},\"selected\":{\"id\":\"1044\"},\"selection_policy\":{\"id\":\"1045\"}},\"id\":\"1032\",\"type\":\"ColumnDataSource\"},{\"attributes\":{},\"id\":\"1020\",\"type\":\"PanTool\"},{\"attributes\":{\"overlay\":{\"id\":\"1025\"}},\"id\":\"1022\",\"type\":\"BoxZoomTool\"},{\"attributes\":{\"mantissas\":[1,2,5],\"max_interval\":500.0,\"num_minor_ticks\":0},\"id\":\"1046\",\"type\":\"AdaptiveTicker\"},{\"attributes\":{},\"id\":\"1023\",\"type\":\"ResetTool\"},{\"attributes\":{\"base\":60,\"mantissas\":[1,2,5,10,15,20,30],\"max_interval\":1800000.0,\"min_interval\":1000.0,\"num_minor_ticks\":0},\"id\":\"1047\",\"type\":\"AdaptiveTicker\"},{\"attributes\":{},\"id\":\"1024\",\"type\":\"SaveTool\"},{\"attributes\":{\"days\":[1,4,7,10,13,16,19,22,25,28]},\"id\":\"1050\",\"type\":\"DaysTicker\"},{\"attributes\":{\"days\":[1,8,15,22]},\"id\":\"1051\",\"type\":\"DaysTicker\"},{\"attributes\":{\"source\":{\"id\":\"1032\"}},\"id\":\"1036\",\"type\":\"CDSView\"},{\"attributes\":{\"line_alpha\":{\"value\":0.1},\"line_color\":{\"value\":\"red\"},\"x0\":{\"field\":\"x0\"},\"x1\":{\"field\":\"x1\"},\"y0\":{\"field\":\"y0\"},\"y1\":{\"field\":\"y1\"}},\"id\":\"1034\",\"type\":\"Segment\"},{\"attributes\":{\"bottom\":{\"field\":\"bottom\"},\"fill_color\":{\"value\":\"#1ED837\"},\"top\":{\"field\":\"top\"},\"width\":{\"value\":43200000},\"x\":{\"field\":\"x\"}},\"id\":\"1241\",\"type\":\"VBar\"}],\"root_ids\":[\"1001\"]},\"title\":\"Bokeh Application\",\"version\":\"2.2.3\"}}\n",
       "        </script>\n",
       "        <script type=\"text/javascript\">\n",
       "          (function() {\n",
       "            var fn = function() {\n",
       "              Bokeh.safely(function() {\n",
       "                (function(root) {\n",
       "                  function embed_document(root) {\n",
       "                    \n",
       "                  var docs_json = document.getElementById('1514').textContent;\n",
       "                  var render_items = [{\"docid\":\"924a7bfe-d6e8-439d-a784-86122be60757\",\"root_ids\":[\"1001\"],\"roots\":{\"1001\":\"24185ae7-8522-4a01-88bd-ebc3772ccc56\"}}];\n",
       "                  root.Bokeh.embed.embed_items(docs_json, render_items);\n",
       "                \n",
       "                  }\n",
       "                  if (root.Bokeh !== undefined) {\n",
       "                    embed_document(root);\n",
       "                  } else {\n",
       "                    var attempts = 0;\n",
       "                    var timer = setInterval(function(root) {\n",
       "                      if (root.Bokeh !== undefined) {\n",
       "                        clearInterval(timer);\n",
       "                        embed_document(root);\n",
       "                      } else {\n",
       "                        attempts++;\n",
       "                        if (attempts > 100) {\n",
       "                          clearInterval(timer);\n",
       "                          console.log(\"Bokeh: ERROR: Unable to run BokehJS code because BokehJS library is missing\");\n",
       "                        }\n",
       "                      }\n",
       "                    }, 10, root)\n",
       "                  }\n",
       "                })(window);\n",
       "              });\n",
       "            };\n",
       "            if (document.readyState != \"loading\") fn();\n",
       "            else document.addEventListener(\"DOMContentLoaded\", fn);\n",
       "          })();\n",
       "        </script>\n",
       "    \n",
       "  </body>\n",
       "  \n",
       "</html>"
      ],
      "text/plain": [
       "<IPython.core.display.HTML object>"
      ]
     },
     "execution_count": 22,
     "metadata": {},
     "output_type": "execute_result"
    }
   ],
   "source": [
    "# This is more of a 'helping' code that will help us to visualise the candlestick plot on our 'Quantra' portal\n",
    "\n",
    "# Please run this twice or thrice if it gives an error in the first run \n",
    "\n",
    "from IPython.display import HTML\n",
    "HTML(\"./candlestick.html\")"
   ]
  },
  {
   "cell_type": "code",
   "execution_count": null,
   "metadata": {},
   "outputs": [],
   "source": []
  }
 ],
 "metadata": {
  "kernelspec": {
   "display_name": "Python 3",
   "language": "python",
   "name": "python3"
  },
  "language_info": {
   "codemirror_mode": {
    "name": "ipython",
    "version": 3
   },
   "file_extension": ".py",
   "mimetype": "text/x-python",
   "name": "python",
   "nbconvert_exporter": "python",
   "pygments_lexer": "ipython3",
   "version": "3.8.5"
  }
 },
 "nbformat": 4,
 "nbformat_minor": 4
}
